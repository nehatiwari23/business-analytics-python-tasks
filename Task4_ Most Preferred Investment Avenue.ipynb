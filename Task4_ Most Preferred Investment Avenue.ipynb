{
 "cells": [
  {
   "cell_type": "markdown",
   "id": "a599f451-1775-4448-b64a-c5bd0095dc81",
   "metadata": {},
   "source": [
    "Task 4: Most Preferred Investmenet Avenue"
   ]
  },
  {
   "cell_type": "markdown",
   "id": "c8cc7649-f4bd-4632-b300-f170cad40479",
   "metadata": {},
   "source": [
    "1. Analyze Investment Avenues"
   ]
  },
  {
   "cell_type": "code",
   "execution_count": 1,
   "id": "f6690634-4889-4135-b102-66a83613acca",
   "metadata": {},
   "outputs": [
    {
     "name": "stdout",
     "output_type": "stream",
     "text": [
      "Index(['gender', 'age', 'Investment_Avenues', 'Mutual_Funds', 'Equity_Market',\n",
      "       'Debentures', 'Government_Bonds', 'Fixed_Deposits', 'PPF', 'Gold',\n",
      "       'Stock_Marktet', 'Factor', 'Objective', 'Purpose', 'Duration',\n",
      "       'Invest_Monitor', 'Expect', 'Avenue',\n",
      "       'What are your savings objectives?', 'Reason_Equity', 'Reason_Mutual',\n",
      "       'Reason_Bonds', 'Reason_FD', 'Source'],\n",
      "      dtype='object')\n"
     ]
    }
   ],
   "source": [
    "import pandas as pd\n",
    "\n",
    "# Load the dataset\n",
    "df = pd.read_csv(\"dataset.csv\")\n",
    "\n",
    "# Preview column names\n",
    "print(df.columns)\n"
   ]
  },
  {
   "cell_type": "markdown",
   "id": "ee5d959a-7ed4-49d7-86e9-244e5911d403",
   "metadata": {},
   "source": [
    "2. Inspect Columns"
   ]
  },
  {
   "cell_type": "code",
   "execution_count": 2,
   "id": "31565bcb-0f7d-46e4-9a16-29b60b71d7fd",
   "metadata": {},
   "outputs": [
    {
     "name": "stdout",
     "output_type": "stream",
     "text": [
      "['Yes' 'No']\n",
      "['Mutual Fund' 'Equity' 'Fixed Deposits' 'Public Provident Fund']\n"
     ]
    }
   ],
   "source": [
    "# Check unique values in potential columns\n",
    "print(df['Investment_Avenues'].unique())\n",
    "print(df['Avenue'].unique())\n"
   ]
  },
  {
   "cell_type": "code",
   "execution_count": 3,
   "id": "9e3c9d0f-e5c1-404e-9396-9e312ec65e01",
   "metadata": {},
   "outputs": [
    {
     "name": "stdout",
     "output_type": "stream",
     "text": [
      "Investment Avenue Frequencies:\n",
      " Avenue\n",
      "Mutual Fund              18\n",
      "Equity                   10\n",
      "Fixed Deposits            9\n",
      "Public Provident Fund     3\n",
      "Name: count, dtype: int64\n",
      "\n",
      "✅ Most Preferred Investment Avenue: Mutual Fund\n"
     ]
    }
   ],
   "source": [
    "# Frequency count of investment avenues\n",
    "investment_counts = df['Avenue'].value_counts()\n",
    "\n",
    "# Display frequency of each investment avenue\n",
    "print(\"Investment Avenue Frequencies:\\n\", investment_counts)\n",
    "\n",
    "# Identify the most preferred investment avenue\n",
    "most_preferred = investment_counts.idxmax()\n",
    "print(\"\\n✅ Most Preferred Investment Avenue:\", most_preferred)\n"
   ]
  }
 ],
 "metadata": {
  "kernelspec": {
   "display_name": "Python 3 (ipykernel)",
   "language": "python",
   "name": "python3"
  },
  "language_info": {
   "codemirror_mode": {
    "name": "ipython",
    "version": 3
   },
   "file_extension": ".py",
   "mimetype": "text/x-python",
   "name": "python",
   "nbconvert_exporter": "python",
   "pygments_lexer": "ipython3",
   "version": "3.13.3"
  }
 },
 "nbformat": 4,
 "nbformat_minor": 5
}
