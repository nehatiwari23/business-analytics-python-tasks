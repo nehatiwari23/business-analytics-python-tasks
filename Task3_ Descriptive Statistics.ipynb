{
 "cells": [
  {
   "cell_type": "markdown",
   "id": "ff28be3b-6cfa-41c5-956f-2b5bdde0cd6b",
   "metadata": {},
   "source": [
    "Task 3: Descriptive Statistics"
   ]
  },
  {
   "cell_type": "markdown",
   "id": "22df68ae-3f50-4b5c-9fed-0ebc02749299",
   "metadata": {},
   "source": [
    "1. Load the dataset and identify numerical columns"
   ]
  },
  {
   "cell_type": "code",
   "execution_count": 1,
   "id": "24c5fa9d-8ed8-4612-8ed9-6864c33825e4",
   "metadata": {},
   "outputs": [
    {
     "name": "stdout",
     "output_type": "stream",
     "text": [
      "Numerical Columns: Index(['age', 'Mutual_Funds', 'Equity_Market', 'Debentures',\n",
      "       'Government_Bonds', 'Fixed_Deposits', 'PPF', 'Gold'],\n",
      "      dtype='object')\n"
     ]
    }
   ],
   "source": [
    "import pandas as pd\n",
    "\n",
    "# Load the dataset\n",
    "df = pd.read_csv(\"dataset.csv\")\n",
    "\n",
    "# Identify numerical columns\n",
    "numerical_columns = df.select_dtypes(include=['int64', 'float64']).columns\n",
    "print(\"Numerical Columns:\", numerical_columns)\n"
   ]
  },
  {
   "cell_type": "markdown",
   "id": "8f4d539d-8841-49c2-a590-22c1456b3e8d",
   "metadata": {},
   "source": [
    "2. Calculate Descriptive Statistics"
   ]
  },
  {
   "cell_type": "code",
   "execution_count": 2,
   "id": "1e5ab661-476f-437f-88ca-b048caad8bc5",
   "metadata": {},
   "outputs": [
    {
     "name": "stdout",
     "output_type": "stream",
     "text": [
      "\n",
      "Column: age\n",
      "Mean: 27.80\n",
      "Median: 27.00\n",
      "Standard Deviation: 3.56\n",
      "\n",
      "Column: Mutual_Funds\n",
      "Mean: 2.55\n",
      "Median: 2.00\n",
      "Standard Deviation: 1.20\n",
      "\n",
      "Column: Equity_Market\n",
      "Mean: 3.48\n",
      "Median: 4.00\n",
      "Standard Deviation: 1.13\n",
      "\n",
      "Column: Debentures\n",
      "Mean: 5.75\n",
      "Median: 6.50\n",
      "Standard Deviation: 1.68\n",
      "\n",
      "Column: Government_Bonds\n",
      "Mean: 4.65\n",
      "Median: 5.00\n",
      "Standard Deviation: 1.37\n",
      "\n",
      "Column: Fixed_Deposits\n",
      "Mean: 3.58\n",
      "Median: 3.50\n",
      "Standard Deviation: 1.80\n",
      "\n",
      "Column: PPF\n",
      "Mean: 2.02\n",
      "Median: 1.00\n",
      "Standard Deviation: 1.61\n",
      "\n",
      "Column: Gold\n",
      "Mean: 5.97\n",
      "Median: 6.00\n",
      "Standard Deviation: 1.14\n"
     ]
    }
   ],
   "source": [
    "# Calculate statistics\n",
    "for col in numerical_columns:\n",
    "    mean = df[col].mean()\n",
    "    median = df[col].median()\n",
    "    std = df[col].std()\n",
    "\n",
    "    print(f\"\\nColumn: {col}\")\n",
    "    print(f\"Mean: {mean:.2f}\")\n",
    "    print(f\"Median: {median:.2f}\")\n",
    "    print(f\"Standard Deviation: {std:.2f}\")\n"
   ]
  },
  {
   "cell_type": "code",
   "execution_count": null,
   "id": "408ca5c4-f86f-4418-b16f-8a73fb716728",
   "metadata": {},
   "outputs": [],
   "source": []
  }
 ],
 "metadata": {
  "kernelspec": {
   "display_name": "Python 3 (ipykernel)",
   "language": "python",
   "name": "python3"
  },
  "language_info": {
   "codemirror_mode": {
    "name": "ipython",
    "version": 3
   },
   "file_extension": ".py",
   "mimetype": "text/x-python",
   "name": "python",
   "nbconvert_exporter": "python",
   "pygments_lexer": "ipython3",
   "version": "3.13.3"
  }
 },
 "nbformat": 4,
 "nbformat_minor": 5
}
