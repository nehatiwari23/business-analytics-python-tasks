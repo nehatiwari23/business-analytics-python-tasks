{
 "cells": [
  {
   "cell_type": "code",
   "execution_count": null,
   "id": "3243af2e-af76-40e0-a448-80f03cbe0f76",
   "metadata": {},
   "outputs": [],
   "source": [
    "Task 9: Expectations from Investments"
   ]
  },
  {
   "cell_type": "code",
   "execution_count": 2,
   "id": "ebd88252-4f57-47e2-84b6-95ef4f516a12",
   "metadata": {},
   "outputs": [
    {
     "name": "stdout",
     "output_type": "stream",
     "text": [
      "🔍 Sample 'Expectations' Data:\n",
      "0    20%-30%\n",
      "1    20%-30%\n",
      "2    20%-30%\n",
      "3    10%-20%\n",
      "4    20%-30%\n",
      "Name: Expect, dtype: object\n",
      "\n",
      "📊 Common Expectations from Investments:\n",
      "Expectations_cleaned\n",
      "20%-30%    32\n",
      "30%-40%     5\n",
      "10%-20%     3\n",
      "Name: count, dtype: int64\n"
     ]
    }
   ],
   "source": [
    "# 📌 Task: Summarize Participants' Investment Expectations\n",
    "\n",
    "# Step 1: Import pandas\n",
    "import pandas as pd\n",
    "\n",
    "# Step 2: Load your dataset (replace filename as needed)\n",
    "df = pd.read_csv(\"dataset.csv\")  # Ensure your file contains an \"Expectations\" column\n",
    "\n",
    "# Step 3: View sample data (optional but helpful)\n",
    "print(\"🔍 Sample 'Expectations' Data:\")\n",
    "print(df[\"Expect\"].dropna().head())\n",
    "\n",
    "# Step 4: Convert all expectations to lowercase and strip extra spaces for consistency\n",
    "df[\"Expectations_cleaned\"] = df[\"Expect\"].str.lower().str.strip()\n",
    "\n",
    "# Step 5: Count frequency of each unique expectation\n",
    "expectation_counts = df[\"Expectations_cleaned\"].value_counts()\n",
    "\n",
    "# Step 6: Display results\n",
    "print(\"\\n📊 Common Expectations from Investments:\")\n",
    "print(expectation_counts)\n"
   ]
  },
  {
   "cell_type": "markdown",
   "id": "92cd5a83-2f5f-4b97-85e3-33fd7f6fc1e1",
   "metadata": {},
   "source": [
    "### 📌 List and Description of Participants' Investment Expectations\n",
    "\n",
    "| **Expected Return Range** | **Description** |\n",
    "|---------------------------|------------------|\n",
    "| 20%–30%                   | Indicates a preference for moderately high returns, likely from mutual funds, stocks, or SIPs. Shows moderate risk tolerance. |\n",
    "| 30%–40%                   | Reflects a desire for aggressive growth, possibly from high-risk investments like trading or crypto. |\n",
    "| 10%–20%                   | Suggests preference for stability and consistent income. Participants may favor fixed deposits or conservative mutual funds. |\n"
   ]
  }
 ],
 "metadata": {
  "kernelspec": {
   "display_name": "Python 3 (ipykernel)",
   "language": "python",
   "name": "python3"
  },
  "language_info": {
   "codemirror_mode": {
    "name": "ipython",
    "version": 3
   },
   "file_extension": ".py",
   "mimetype": "text/x-python",
   "name": "python",
   "nbconvert_exporter": "python",
   "pygments_lexer": "ipython3",
   "version": "3.13.3"
  }
 },
 "nbformat": 4,
 "nbformat_minor": 5
}
