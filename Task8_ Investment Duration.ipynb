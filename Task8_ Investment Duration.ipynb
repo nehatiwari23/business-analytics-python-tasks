{
 "cells": [
  {
   "cell_type": "markdown",
   "id": "13ae0f87-71d6-4647-a950-b07a4350eb0a",
   "metadata": {},
   "source": [
    "Task 8: Investment Duration"
   ]
  },
  {
   "cell_type": "code",
   "execution_count": 5,
   "id": "a8890ddf-2cc6-4cc1-a4f7-130bb8b9c6d6",
   "metadata": {},
   "outputs": [
    {
     "name": "stdout",
     "output_type": "stream",
     "text": [
      "✅ Average Investment Duration: 2.98 years\n"
     ]
    }
   ],
   "source": [
    "import pandas as pd\n",
    "\n",
    "# Load your data\n",
    "df = pd.read_csv(\"dataset.csv\")\n",
    "\n",
    "# Map duration values to numeric midpoints\n",
    "duration_map = {\n",
    "    \"Less than 1 year\": 0.5,\n",
    "    \"1-3 years\": 2,\n",
    "    \"3-5 years\": 4,\n",
    "    \"More than 5 years\": 6\n",
    "}\n",
    "\n",
    "# Apply the mapping\n",
    "df[\"Duration (Years)\"] = df[\"Duration\"].map(duration_map)\n",
    "\n",
    "# Step 6: Check for missing or unmapped values\n",
    "if df[\"Duration (Years)\"].isnull().any():\n",
    "    print(\"\\n⚠️ Warning: Some durations could not be mapped. Please check the input values.\")\n",
    "    print(df[df[\"Duration (Years)\"].isnull()])\n",
    "    \n",
    "# Calculate the average\n",
    "average_duration = df[\"Duration (Years)\"].mean()\n",
    "\n",
    "print(f\"✅ Average Investment Duration: {average_duration:.2f} years\")\n"
   ]
  },
  {
   "cell_type": "code",
   "execution_count": null,
   "id": "5d5eac3e-e16b-442b-945e-0f8cea5d2677",
   "metadata": {},
   "outputs": [],
   "source": []
  }
 ],
 "metadata": {
  "kernelspec": {
   "display_name": "Python 3 (ipykernel)",
   "language": "python",
   "name": "python3"
  },
  "language_info": {
   "codemirror_mode": {
    "name": "ipython",
    "version": 3
   },
   "file_extension": ".py",
   "mimetype": "text/x-python",
   "name": "python",
   "nbconvert_exporter": "python",
   "pygments_lexer": "ipython3",
   "version": "3.13.3"
  }
 },
 "nbformat": 4,
 "nbformat_minor": 5
}
